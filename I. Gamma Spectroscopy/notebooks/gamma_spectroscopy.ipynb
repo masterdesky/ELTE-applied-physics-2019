{
 "cells": [
  {
   "cell_type": "code",
   "execution_count": null,
   "metadata": {},
   "outputs": [],
   "source": [
    "import os\n",
    "import sys\n",
    "import numpy as np\n",
    "\n",
    "import seaborn as sns\n",
    "import matplotlib.pyplot as plt\n",
    "import matplotlib.gridspec as gridspec\n",
    "from matplotlib.patches import Rectangle"
   ]
  },
  {
   "cell_type": "code",
   "execution_count": null,
   "metadata": {},
   "outputs": [],
   "source": [
    "sns.set_style({'axes.axisbelow': True,\n",
    "               'axes.edgecolor': '.8',\n",
    "               'axes.facecolor': 'white',\n",
    "               'axes.grid': True,\n",
    "               'axes.labelcolor': '.15',\n",
    "               'axes.spines.bottom': True,\n",
    "               'axes.spines.left': True,\n",
    "               'axes.spines.right': True,\n",
    "               'axes.spines.top': True,\n",
    "               'figure.facecolor': 'white',\n",
    "               'font.family': ['sans-serif'],\n",
    "               'font.sans-serif': ['Arial',\n",
    "                'DejaVu Sans',\n",
    "                'Liberation Sans',\n",
    "                'Bitstream Vera Sans',\n",
    "                'sans-serif'],\n",
    "               'grid.color': '.8',\n",
    "               'grid.linestyle': '--',\n",
    "               'image.cmap': 'rocket',\n",
    "               'lines.solid_capstyle': 'round',\n",
    "               'patch.edgecolor': 'w',\n",
    "               'patch.force_edgecolor': True,\n",
    "               'text.color': '.15',\n",
    "               'xtick.bottom': True,\n",
    "               'xtick.color': '.15',\n",
    "               'xtick.direction': 'in',\n",
    "               'xtick.top': True,\n",
    "               'ytick.color': '.15',\n",
    "               'ytick.direction': 'in',\n",
    "               'ytick.left': True,\n",
    "               'ytick.right': True})"
   ]
  },
  {
   "cell_type": "code",
   "execution_count": null,
   "metadata": {},
   "outputs": [],
   "source": [
    "figsave_out = '../Documentation/report/src/images/'\n",
    "figsave_format = 'pdf'\n",
    "figsave_dpi = 200\n",
    "\n",
    "# Bold text format\n",
    "b1 = '\\033[1m'\n",
    "b0 = '\\033[0m'"
   ]
  },
  {
   "cell_type": "code",
   "execution_count": null,
   "metadata": {},
   "outputs": [],
   "source": [
    "with open('../data/spectra.dat') as f:\n",
    "    lines = [line.split('\\n')[0] for line in f]\n",
    "    data_bin = [int(line) \\\n",
    "                for line in lines[lines.index('<<DATA>>')+1:lines.index('<<END>>')]]\n",
    "    data_roi = sorted([[int(i) for i in line.split(' ')] \\\n",
    "                       for line in lines[lines.index('<<ROI>>')+1:lines.index('<<DATA>>')]])\n",
    "\n",
    "# Convert ROI to keV from bin values\n",
    "data_roi_e = [[0.9255 * x - 1.7343 for x in i] for i in data_roi]\n",
    "\n",
    "data_roi_y = [[0, 3500],\n",
    "              [0, 2000],\n",
    "              [0, 15000],\n",
    "              [0, 2000],\n",
    "              [0, 700],\n",
    "              [0, 1000]]"
   ]
  },
  {
   "cell_type": "code",
   "execution_count": null,
   "metadata": {},
   "outputs": [],
   "source": [
    "# There should be 4095 bins in the amplitude-analizator, but only 4083 did actually work\n",
    "# Here : len(data_bin) == 4083\n",
    "amp_an_bins = len(data_bin)\n",
    "# Equation for transforming from bins to keV\n",
    "# keV = 0.9255 * BIN_VALUE - 1.7343\n",
    "LOWER_LIM = 0.9255 * 0 - 1.7343\n",
    "UPPER_LIM = 0.9255 * amp_an_bins - 1.7343\n",
    "print(b1 + 'Lower limit of X axis :' + b0, LOWER_LIM)\n",
    "print(b1 + 'Upper limit of X axis :' + b0, UPPER_LIM)\n",
    "# Bins with energy values\n",
    "energy_bins = np.linspace(LOWER_LIM, UPPER_LIM, amp_an_bins)"
   ]
  },
  {
   "cell_type": "code",
   "execution_count": null,
   "metadata": {},
   "outputs": [],
   "source": [
    "# Gamma photon names\n",
    "# 143.768 keV : U235 - g4,1 (Here: 145.28 keV)\n",
    "# 163.358 keV : U235 - g5,1 (Here: 164.75 keV)\n",
    "# 185.722 keV : U235 - g4,0 (Here: 186.79 keV)\n",
    "# 205.316 keV : U235 - g5,0 (Here: 206.10 keV)\n",
    "# 766.708 keV : Pa234m - g4,1 (Here: 764.24 keV)\n",
    "# 1001.441 keV : Pa234m - g9,1 (Here: 998.77 keV)\n",
    "gammas = ['$^{235}$U - $\\gamma_{4,1}$',\n",
    "          '$^{235}$U - $\\gamma_{5,1}$',\n",
    "          '$^{235}$U - $\\gamma_{4,0}$',\n",
    "          '$^{235}$U - $\\gamma_{5,0}$',\n",
    "          '$^{234}$Pa$^{m}$ - $\\gamma_{4,1}$',\n",
    "          '$^{234}$Pa$^{m}$ - $\\gamma_{9,1}$']\n",
    "\n",
    "gamma_names = ['U235_g4_1',\n",
    "               'U235_g5_1',\n",
    "               'U235_g4_0',\n",
    "               'U235_g5_0',\n",
    "               'Pam234_g4_1',\n",
    "               'Pam234_g9_1']\n",
    "\n",
    "gamma_colors = ['tab:red',\n",
    "                'tab:green',\n",
    "                'tab:orange',\n",
    "                'tab:purple',\n",
    "                'tab:grey',\n",
    "                'tab:brown',]"
   ]
  },
  {
   "cell_type": "markdown",
   "metadata": {},
   "source": [
    "## Plot spectra and characteristic peaks peaks"
   ]
  },
  {
   "cell_type": "code",
   "execution_count": null,
   "metadata": {},
   "outputs": [],
   "source": [
    "def plot_spectra(lims=None, save=False, plot_type='line', name=None):\n",
    "    nrows = 1\n",
    "    ncols = 2\n",
    "    fig = plt.figure(figsize=(ncols*14,nrows*12))\n",
    "    G = gridspec.GridSpec(nrows, ncols)\n",
    "    G.update(hspace=0.35, wspace=0.2)\n",
    "    axes = [plt.subplot(G[i]) for i in range(ncols)]\n",
    "\n",
    "    suptitlesize = 50\n",
    "    titlesize = 40\n",
    "    axislabelsize = 40\n",
    "    axisticksize = 30\n",
    "    legendsize = 25\n",
    "\n",
    "    if lims is not None:\n",
    "        linewdt = 2\n",
    "        '''\n",
    "        if name is not None:\n",
    "            plt.suptitle('{0} gamma peak of my sample '.format(name) +\n",
    "                         '(small, yellow crystal)\\n',\n",
    "                         fontweight='bold', fontsize=suptitlesize, y=1.08)\n",
    "\n",
    "        else:\n",
    "            plt.suptitle('One of the gamma peak of my sample ' +\n",
    "                         '(small, yellow crystal)\\n',\n",
    "                         fontweight='bold', fontsize=suptitlesize, y=1.08)\n",
    "        '''\n",
    "    else:\n",
    "        linewdt = 2\n",
    "        '''\n",
    "        plt.suptitle('Gamma spectra of my measured sample ' +\n",
    "                     '(small, yellow crystal)',\n",
    "                     fontweight='bold', fontsize=suptitlesize, y=1.08)\n",
    "        '''\n",
    "\n",
    "    # Linear scale\n",
    "    if plot_type == 'line':\n",
    "        axes[0].plot(energy_bins, data_bin, lw=linewdt)\n",
    "        axes[0].fill_between(x=energy_bins, y1=data_bin)\n",
    "        for idx, roi in enumerate(data_roi_e):\n",
    "            axes[0].axvline(x=np.mean(roi), label=gammas[idx],\n",
    "                            color=gamma_colors[idx], ls='--', alpha=1,\n",
    "                            zorder=0)\n",
    "        #axes[0].set_xlim(-50,1100)\n",
    "        axes[0].legend(loc='upper center', fontsize=legendsize)\n",
    "\n",
    "    elif plot_type == 'hist':\n",
    "        axes[0].bar(energy_bins, data_bin,\n",
    "                    width=0.9, align='center')\n",
    "    axes[0].set_title('Linear scale', fontsize=titlesize, y=1.02)\n",
    "\n",
    "    # Log scale\n",
    "    if plot_type == 'line':\n",
    "        axes[1].plot(energy_bins, data_bin, lw=linewdt)\n",
    "        axes[1].fill_between(x=energy_bins, y1=data_bin)\n",
    "        for idx, roi in enumerate(data_roi_e):\n",
    "            axes[1].axvline(x=np.mean(roi), label=gammas[idx],\n",
    "                            color=gamma_colors[idx], ls='--', alpha=1,\n",
    "                            zorder=0)\n",
    "            \n",
    "        #axes[1].set_xlim(-50,1100)\n",
    "        axes[1].legend(loc='upper center', fontsize=legendsize)\n",
    "\n",
    "    elif plot_type == 'hist':\n",
    "        axes[1].bar(energy_bins, data_bin,\n",
    "                    width=0.9, align='center')\n",
    "\n",
    "    axes[1].set_yscale('log')\n",
    "    axes[1].set_title('Logarithmic scale', fontsize=titlesize, y=1.02)\n",
    "\n",
    "    for i in range(ncols):\n",
    "        axes[i].set_xlabel('Energy [keV]', fontsize=axislabelsize)\n",
    "        axes[i].set_ylabel('Intensity [n]', fontsize=axislabelsize)\n",
    "        axes[i].tick_params(axis='both', which='major', labelsize=axisticksize, pad=15)\n",
    "        if lims is not None:\n",
    "            assert(np.shape(lims) == (2, 2)), \"\\'lims\\' should be a (2,2) shape array!\"\n",
    "            axes[i].set_xlim(lims[0][0], lims[0][1])\n",
    "            axes[0].set_ylim(lims[1][0], lims[1][1])\n",
    "            axes[1].set_ylim(1, lims[1][1])\n",
    "\n",
    "    if save:\n",
    "        if lims is not None:\n",
    "            if name is not None:\n",
    "                plt.savefig((figsave_out + 'spectra_lims_{0:.2f}_{1:.2f}_{2}.'.format(lims[0][0], lims[0][1], name)) +\n",
    "                             figsave_format,\n",
    "                            format=figsave_format,\n",
    "                            dpi=figsave_dpi,\n",
    "                            bbox_inches='tight')\n",
    "            else:\n",
    "                plt.savefig((figsave_out + 'spectra_lims_{0:.2f}_{1:.2f}.'.format(lims[0][0], lims[0][1])) +\n",
    "                             figsave_format,\n",
    "                            format=figsave_format,\n",
    "                            dpi=figsave_dpi,\n",
    "                            bbox_inches='tight')\n",
    "\n",
    "        else:\n",
    "             plt.savefig(figsave_out + 'full_spectra.' +\n",
    "                         figsave_format,\n",
    "                         format=figsave_format,\n",
    "                         dpi=figsave_dpi,\n",
    "                         bbox_inches='tight')   \n",
    "\n",
    "    plt.show()"
   ]
  },
  {
   "cell_type": "code",
   "execution_count": null,
   "metadata": {},
   "outputs": [],
   "source": [
    "lim = False\n",
    "\n",
    "if lim:\n",
    "    ymin_lim = 0 - np.max(data_bin)*(1/15)\n",
    "    ymax_lim = np.max(data_bin)*(1 + 1/15)\n",
    "    plot_spectra(lims=([-50,1100], [ymin_lim, ymax_lim]), save=True, plot_type='line')\n",
    "else:\n",
    "    plot_spectra(lims=None, save=True, plot_type='line')"
   ]
  },
  {
   "cell_type": "code",
   "execution_count": null,
   "metadata": {},
   "outputs": [],
   "source": [
    "for i in range(1, len(data_roi_e)):\n",
    "    plot_spectra(lims=(data_roi_e[i], data_roi_y[i]), save=True, plot_type='hist', name=gamma_names[i])"
   ]
  },
  {
   "cell_type": "markdown",
   "metadata": {},
   "source": [
    "## Calculate activity of monitored radioactive nucleii\n",
    "\n",
    "$$\n",
    "A\n",
    "=\n",
    "\\frac{S}{t \\cdot I \\left( E, n \\right) \\cdot \\eta \\left( E, n \\right)}\n",
    "$$"
   ]
  },
  {
   "cell_type": "code",
   "execution_count": null,
   "metadata": {},
   "outputs": [],
   "source": [
    "t = 1073\n",
    "S = np.array([3375, 1976, 20836, 1666, 914, 1550])\n",
    "deltaS = np.array([2.35, 4.05, 0.73, 2.86, 3.75, 2.16]) / 100\n",
    "DeltaS = deltaS * S\n",
    "eta = np.array([1330.59e-4, 1232.67e-4, 1065.56e-4, 1008.12e-4, 270.98e-4, 212.55e-4])\n",
    "deltaeta = np.array([2.218, 2.336, 2.129, 3.085, 2.491, 2.365]) / 100\n",
    "Deltaeta = deta * eta\n",
    "I = np.array([13.20, 5.855, 63.41, 5.465, 0.329, 0.856]) / 100\n",
    "lambda_i = [3.12e-17, 3.12e-17, 3.12e-17, 3.12e-17, 4.92e-18, 4.92e-18]"
   ]
  },
  {
   "cell_type": "code",
   "execution_count": null,
   "metadata": {},
   "outputs": [],
   "source": [
    "A = S / (t * eta * I)\n",
    "deltaA = np.sqrt(deltaS**2 + deltaeta**2)\n",
    "DeltaA = deltaA * A"
   ]
  },
  {
   "cell_type": "code",
   "execution_count": null,
   "metadata": {},
   "outputs": [],
   "source": [
    "print(b1 + 'Activities of the measured elements:' + b0)\n",
    "for idx, act in enumerate(A):\n",
    "    print('{0} : ({1:.1f} +- {2:.1f}) Bq'.format(gamma_names[idx], act, DeltaA[idx]))"
   ]
  },
  {
   "cell_type": "code",
   "execution_count": null,
   "metadata": {},
   "outputs": [],
   "source": [
    "N = A / lambda_i\n",
    "deltaN = deltaA\n",
    "DeltaN = deltaN * N"
   ]
  },
  {
   "cell_type": "code",
   "execution_count": null,
   "metadata": {
    "scrolled": true
   },
   "outputs": [],
   "source": [
    "print(b1 + 'Particle numbers of the measured elements:' + b0)\n",
    "for idx, n in enumerate(N):\n",
    "    print('{0} : ({1:.2e} +- {2:.2e})'.format(gamma_names[idx], n, DeltaN[idx]))"
   ]
  },
  {
   "cell_type": "code",
   "execution_count": null,
   "metadata": {},
   "outputs": [],
   "source": [
    "N_235 = np.mean(N[:4])\n",
    "deltaN_235 = np.sqrt(np.square(deltaN[:4]).sum())\n",
    "DeltaN_235 = deltaN_235 * N_235\n",
    "N_238 = np.mean(N[4:])\n",
    "deltaN_238 = np.sqrt(np.square(deltaN[4:]).sum())\n",
    "DeltaN_238 = deltaN_238 * N_238"
   ]
  },
  {
   "cell_type": "code",
   "execution_count": null,
   "metadata": {},
   "outputs": [],
   "source": [
    "print(b1 + 'Number of U235 particles : ' + b0 + '{0:.2e} +- {1:.2e}'.format(N_235, DeltaN_235))\n",
    "print(b1 + 'Number of U238 particles : ' + b0 + '{0:.2e} +- {1:.2e}'.format(N_238, DeltaN_238))"
   ]
  },
  {
   "cell_type": "code",
   "execution_count": null,
   "metadata": {},
   "outputs": [],
   "source": [
    "C_235 = N_235 / (N_235 + N_238)\n",
    "C_238 = N_238 / (N_235 + N_238)\n",
    "deltaC_235 = deltaN_235\n",
    "deltaC_238 = deltaN_238\n",
    "DeltaC_235 = deltaC_235 * C_235\n",
    "DeltaC_238 = deltaC_238 * C_238"
   ]
  },
  {
   "cell_type": "code",
   "execution_count": null,
   "metadata": {},
   "outputs": [],
   "source": [
    "print(b1 + 'Relative proportion of U235 : ' + b0 + '({0:.2f} +- {1:.2f}) %'.format(C_235 * 100, DeltaC_235 * 100))\n",
    "print(b1 + 'Relative proportion of U238 : ' + b0 + '({0:.2f} +- {1:.2f}) %'.format(C_238 * 100, DeltaC_238 * 100))"
   ]
  },
  {
   "cell_type": "code",
   "execution_count": null,
   "metadata": {},
   "outputs": [],
   "source": [
    "A_tot = ((A / np.square(DeltaA)).sum())/((1 / np.square(DeltaA)).sum())\n",
    "DeltaA_tot = 1 / np.sqrt((1 / np.square(DeltaA)).sum())"
   ]
  },
  {
   "cell_type": "code",
   "execution_count": null,
   "metadata": {},
   "outputs": [],
   "source": [
    "print(b1 + 'Total activity of the sample : ' + b0 + '({0:.2f} +- {1:.2f})'.format(A_tot, DeltaA_tot))"
   ]
  },
  {
   "cell_type": "code",
   "execution_count": null,
   "metadata": {},
   "outputs": [],
   "source": []
  }
 ],
 "metadata": {
  "kernelspec": {
   "display_name": "Python 3 (ipykernel)",
   "language": "python",
   "name": "python3"
  },
  "language_info": {
   "codemirror_mode": {
    "name": "ipython",
    "version": 3
   },
   "file_extension": ".py",
   "mimetype": "text/x-python",
   "name": "python",
   "nbconvert_exporter": "python",
   "pygments_lexer": "ipython3",
   "version": "3.9.10"
  }
 },
 "nbformat": 4,
 "nbformat_minor": 4
}
