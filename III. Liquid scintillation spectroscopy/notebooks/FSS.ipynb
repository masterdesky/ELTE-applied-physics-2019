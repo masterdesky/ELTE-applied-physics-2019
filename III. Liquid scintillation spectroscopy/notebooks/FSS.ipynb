{
 "cells": [
  {
   "cell_type": "markdown",
   "metadata": {},
   "source": [
    "# Applied Physics Lab - III. Liquid Scintillation Spectroscopy @ ELTE"
   ]
  },
  {
   "cell_type": "code",
   "execution_count": null,
   "metadata": {},
   "outputs": [],
   "source": [
    "import os\n",
    "import numpy as np\n",
    "import pandas as pd\n",
    "\n",
    "import seaborn as sns\n",
    "import matplotlib as mpl\n",
    "import matplotlib.pyplot as plt\n",
    "\n",
    "from scipy.stats import linregress\n",
    "from scipy.optimize import curve_fit\n",
    "from sklearn.metrics import mean_squared_error"
   ]
  },
  {
   "cell_type": "code",
   "execution_count": null,
   "metadata": {},
   "outputs": [],
   "source": [
    "# Set axtick dimensions\n",
    "major_size = 6\n",
    "major_width = 1.2\n",
    "minor_size = 3\n",
    "minor_width = 1\n",
    "mpl.rcParams['xtick.major.size'] = major_size\n",
    "mpl.rcParams['xtick.major.width'] = major_width\n",
    "mpl.rcParams['xtick.minor.size'] = minor_size\n",
    "mpl.rcParams['xtick.minor.width'] = minor_width\n",
    "mpl.rcParams['ytick.major.size'] = major_size\n",
    "mpl.rcParams['ytick.major.width'] = major_width\n",
    "mpl.rcParams['ytick.minor.size'] = minor_size\n",
    "mpl.rcParams['ytick.minor.width'] = minor_width\n",
    "\n",
    "# Seaborn style settings\n",
    "sns.set_style({'axes.axisbelow': True,\n",
    "               'axes.edgecolor': '.8',\n",
    "               'axes.facecolor': 'white',\n",
    "               'axes.grid': True,\n",
    "               'axes.labelcolor': '.15',\n",
    "               'axes.spines.bottom': True,\n",
    "               'axes.spines.left': True,\n",
    "               'axes.spines.right': True,\n",
    "               'axes.spines.top': True,\n",
    "               'figure.facecolor': 'white',\n",
    "               'font.family': ['sans-serif'],\n",
    "               'font.sans-serif': ['Arial',\n",
    "                'DejaVu Sans',\n",
    "                'Liberation Sans',\n",
    "                'Bitstream Vera Sans',\n",
    "                'sans-serif'],\n",
    "               'grid.color': '.8',\n",
    "               'grid.linestyle': '--',\n",
    "               'image.cmap': 'rocket',\n",
    "               'lines.solid_capstyle': 'round',\n",
    "               'patch.edgecolor': 'w',\n",
    "               'patch.force_edgecolor': True,\n",
    "               'text.color': '.15',\n",
    "               'xtick.bottom': True,\n",
    "               'xtick.color': '.15',\n",
    "               'xtick.direction': 'in',\n",
    "               'xtick.top': True,\n",
    "               'ytick.color': '.15',\n",
    "               'ytick.direction': 'in',\n",
    "               'ytick.left': True,\n",
    "               'ytick.right': True})"
   ]
  },
  {
   "cell_type": "code",
   "execution_count": null,
   "metadata": {},
   "outputs": [],
   "source": [
    "PC = True\n",
    "if PC:\n",
    "    FSS_dir = 'D://GitHub/ELTE_Applied_Physics_2019/III. Liquid Scintillation Spectroscopy/'\n",
    "    FSS_data = FSS_dir + 'data/'\n",
    "    figsave_dir = FSS_dir + 'Documentation/report/src/images/'\n",
    "else:\n",
    "    FSS_dir = 'C://Users/masterdesky/Documents/GitHub/ELTE_Applied_Physics_2019/III. Liquid Scintillation Spectroscopy/'\n",
    "    FSS_data = FSS_dir + 'data/'\n",
    "    figsave_dir = FSS_dir + 'Documentation/report/src/images/'\n",
    "\n",
    "figsave_format = 'pdf'\n",
    "figsave_dpi = 200\n",
    "    \n",
    "# Bold print\n",
    "b1 = '\\033[1m'\n",
    "b0 = '\\033[0m'"
   ]
  },
  {
   "cell_type": "markdown",
   "metadata": {},
   "source": [
    "### $^{14}$C data"
   ]
  },
  {
   "cell_type": "code",
   "execution_count": null,
   "metadata": {},
   "outputs": [],
   "source": [
    "Z = 6\n",
    "# Q-value [keV]\n",
    "Q = 156.5\n",
    "DPM = 120900"
   ]
  },
  {
   "cell_type": "code",
   "execution_count": null,
   "metadata": {},
   "outputs": [],
   "source": [
    "# mass of electron [kg]\n",
    "m_e = 9.10938356e-31\n",
    "# light speed [m/s]\n",
    "c_light = 299792458\n",
    "# 1 J = 6.2415096471204 * 10^{15} keV\n",
    "J_to_keV = 6.2415096471204e15\n",
    "\n",
    "print(b1 + 'm*c^2 = ' + b0 + '{0} keV'.format(m_e*c_light**2 * J_to_keV))"
   ]
  },
  {
   "cell_type": "markdown",
   "metadata": {},
   "source": [
    "## Import data"
   ]
  },
  {
   "cell_type": "code",
   "execution_count": null,
   "metadata": {},
   "outputs": [],
   "source": [
    "os.listdir(FSS_data)"
   ]
  },
  {
   "cell_type": "code",
   "execution_count": null,
   "metadata": {},
   "outputs": [],
   "source": [
    "def read_data_files(file):\n",
    "    \n",
    "    bins = {}\n",
    "    \n",
    "    with open(file, mode='rt') as f:\n",
    "        for line in f:\n",
    "\n",
    "            # Dataline format:\n",
    "            # \"bin;v;v;v;...\"\n",
    "            # \n",
    "            s = line.split(';')\n",
    "            # The first element will contain the bin label, while\n",
    "            # the other elements contains the bin values\n",
    "            # s[0] == bin\n",
    "            # s[i != 0] == values\n",
    "            s[0] = s[0].replace(',', '.')\n",
    "            bins[float(s[0])-0.25] = [int(x) for x in s[1:]]\n",
    "\n",
    "    # Convert to pandas DataFrame\n",
    "    df = pd.DataFrame(data=bins)\n",
    "    \n",
    "    return df"
   ]
  },
  {
   "cell_type": "code",
   "execution_count": null,
   "metadata": {},
   "outputs": [],
   "source": [
    "data_1 = read_data_files(file=(FSS_data + os.listdir(FSS_data)[1]))\n",
    "data_2 = read_data_files(file=(FSS_data + os.listdir(FSS_data)[2]))\n",
    "data_3 = read_data_files(file=(FSS_data + os.listdir(FSS_data)[3]))\n",
    "data = data_1.append(data_2, ignore_index=True).append(data_3, ignore_index=True)\n",
    "data = data.T"
   ]
  },
  {
   "cell_type": "code",
   "execution_count": null,
   "metadata": {},
   "outputs": [],
   "source": [
    "data"
   ]
  },
  {
   "cell_type": "markdown",
   "metadata": {},
   "source": [
    "### Drop errorous measurements"
   ]
  },
  {
   "cell_type": "code",
   "execution_count": null,
   "metadata": {},
   "outputs": [],
   "source": [
    "for i in np.where(data.iloc[0].values > 100)[0]:\n",
    "    del data[i]\n",
    "\n",
    "data.columns = [i for i in range(len(data.columns.values))]"
   ]
  },
  {
   "cell_type": "code",
   "execution_count": null,
   "metadata": {},
   "outputs": [],
   "source": [
    "data"
   ]
  },
  {
   "cell_type": "markdown",
   "metadata": {},
   "source": [
    "### Calculate statistical data columns"
   ]
  },
  {
   "cell_type": "code",
   "execution_count": null,
   "metadata": {},
   "outputs": [],
   "source": [
    "data['mean'] = [np.mean(data.iloc[i]) for i in range(len(data.index))]\n",
    "data['std'] = [np.std(data.iloc[i]) for i in range(len(data.index))]"
   ]
  },
  {
   "cell_type": "code",
   "execution_count": null,
   "metadata": {},
   "outputs": [],
   "source": [
    "data"
   ]
  },
  {
   "cell_type": "markdown",
   "metadata": {},
   "source": [
    "## Plot spectrums"
   ]
  },
  {
   "cell_type": "code",
   "execution_count": null,
   "metadata": {},
   "outputs": [],
   "source": [
    "nrows = 8\n",
    "ncols = 3\n",
    "fig, axes = plt.subplots(nrows=nrows, ncols=ncols, figsize=(ncols*14,nrows*8))\n",
    "fig.subplots_adjust(hspace=0.45)\n",
    "\n",
    "titlesize = 25\n",
    "axislabelsize = 25\n",
    "axisticksize = 20\n",
    "\n",
    "random_indeces = np.random.randint(low=0, high=(len(data.columns)-2), size=nrows*ncols)\n",
    "random_indeces = sorted(random_indeces)\n",
    "for i in range(nrows):\n",
    "    for j in range(ncols):\n",
    "        axes[i][j].plot(data.index, data[random_indeces[i*ncols + j]],\n",
    "                        lw=4, color='tab:orange', alpha=0.8)\n",
    "\n",
    "        axes[i][j].set_title(('$\\\\beta$-spectrum of $^{14}$C isotope\\n' +\n",
    "                              'One of the 2 minute measurements (index : {0})'.format(random_indeces[i*ncols + j])),\n",
    "                             fontsize=titlesize, fontweight='bold')\n",
    "        axes[i][j].set_xlabel('Light output [keVee]', fontsize=axislabelsize)\n",
    "        axes[i][j].set_ylabel('Counts [N]', fontsize=axislabelsize)\n",
    "        axes[i][j].tick_params(axis='both', which='major', labelsize=axisticksize)\n",
    "\n",
    "plt.savefig(figsave_dir + 'random_spectrums.' + figsave_format,\n",
    "            format=figsave_format,\n",
    "            dpi=figsave_dpi,\n",
    "            bbox_inches='tight')\n",
    "plt.show()"
   ]
  },
  {
   "cell_type": "code",
   "execution_count": null,
   "metadata": {},
   "outputs": [],
   "source": [
    "nrows = 1\n",
    "ncols = 1\n",
    "fig, axes = plt.subplots(nrows=nrows, ncols=ncols, figsize=(ncols*14,nrows*8))\n",
    "\n",
    "titlesize = 25\n",
    "axislabelsize = 25\n",
    "axisticksize = 20\n",
    "\n",
    "axes.plot(data.index, data['mean']/np.sum(data['mean']),\n",
    "          lw=4, color='tab:orange', alpha=0.8)\n",
    "\n",
    "axes.set_title('$\\\\beta$-spectrum of $^{14}$C isotope\\nMean values of all 2 minute measurements',\n",
    "               fontsize=titlesize, fontweight='bold')\n",
    "axes.set_xlabel('Light output [keVee]', fontsize=axislabelsize)\n",
    "axes.set_ylabel('Probability', fontsize=axislabelsize)\n",
    "axes.tick_params(axis='both', which='major', labelsize=axisticksize)\n",
    "\n",
    "plt.savefig(figsave_dir + 'mean_spectrum.' + figsave_format,\n",
    "            format=figsave_format,\n",
    "            dpi=figsave_dpi,\n",
    "            bbox_inches='tight')\n",
    "plt.show()"
   ]
  },
  {
   "cell_type": "code",
   "execution_count": null,
   "metadata": {},
   "outputs": [],
   "source": [
    "nrows = 1\n",
    "ncols = 1\n",
    "fig, axes = plt.subplots(nrows=nrows, ncols=ncols, figsize=(ncols*20,nrows*14))\n",
    "\n",
    "titlesize = 25\n",
    "axislabelsize = 25\n",
    "axisticksize = 20\n",
    "\n",
    "x_lim = (-12.5, 262.5)\n",
    "x_ticks_loc = axes.get_xticks()\n",
    "x_ticks_val = [int(x*(np.max(data.index.values)+0.25)) for x in x_ticks_loc]\n",
    "\n",
    "sns.barplot(data.index, y='mean', data=data,\n",
    "            palette='autumn', ci=None,\n",
    "            ax=axes)\n",
    "\n",
    "#axes.bar(data.index, data['mean']/np.sum(data['mean']),\n",
    "#         width=0.5, align='center', color='tab:orange', alpha=1.0)\n",
    "\n",
    "axes.set_xlim(x_lim)\n",
    "axes.set_xticks(list(np.array(x_ticks_val)*2))\n",
    "axes.set_xticklabels(x_ticks_val)\n",
    "axes.set_title('$\\\\beta$-spectrum of $^{14}$C isotope\\nMean values of all 2 minute measurements',\n",
    "               fontsize=titlesize, fontweight='bold')\n",
    "axes.set_xlabel('Light output [keVee]', fontsize=axislabelsize)\n",
    "axes.set_ylabel('Probability', fontsize=axislabelsize)\n",
    "axes.tick_params(axis='both', which='major', labelsize=axisticksize)\n",
    "\n",
    "plt.savefig(figsave_dir + 'mean_spectrum_binned.' + 'png',\n",
    "            format='png',\n",
    "            dpi=300,\n",
    "            bbox_inches='tight')\n",
    "plt.show()"
   ]
  },
  {
   "cell_type": "markdown",
   "metadata": {},
   "source": [
    "### Calculate CPM"
   ]
  },
  {
   "cell_type": "code",
   "execution_count": null,
   "metadata": {},
   "outputs": [],
   "source": [
    "CPM = (0.5 * data['mean'].values).sum() / 2\n",
    "eta = CPM / DPM\n",
    "print(b1 + 'Measured CPM : ' + b0 + '{0:.0f}'.format(CPM))\n",
    "print(b1 + 'Measured eta : ' + b0 + '{0:.3f}%'.format(eta*100))"
   ]
  },
  {
   "cell_type": "markdown",
   "metadata": {},
   "source": [
    "### Calculate wheter if $\\left< E \\right> = \\frac{Q}{3}$"
   ]
  },
  {
   "cell_type": "code",
   "execution_count": null,
   "metadata": {},
   "outputs": [],
   "source": [
    "E_pred = (data.index.values * data['mean'].values).sum()/data['mean'].sum()\n",
    "E_grtr = Q/3\n",
    "diff = np.abs(E_pred - E_grtr)\n",
    "\n",
    "print(b1 + 'Difference from groundtruth value is ' + b0 + '{0:.2f} %'.format(diff/E_grtr * 100))"
   ]
  },
  {
   "cell_type": "code",
   "execution_count": null,
   "metadata": {},
   "outputs": [],
   "source": [
    "E_grtr"
   ]
  },
  {
   "cell_type": "code",
   "execution_count": null,
   "metadata": {},
   "outputs": [],
   "source": [
    "E_pred"
   ]
  },
  {
   "cell_type": "markdown",
   "metadata": {},
   "source": [
    "### Test wheter if $\\sqrt{N} \\approx \\sigma$"
   ]
  },
  {
   "cell_type": "code",
   "execution_count": null,
   "metadata": {},
   "outputs": [],
   "source": [
    "nrows = 1\n",
    "ncols = 1\n",
    "fig, axes = plt.subplots(nrows=nrows, ncols=ncols, figsize=(ncols*12,nrows*12))\n",
    "\n",
    "titlesize = 25\n",
    "axislabelsize = 24\n",
    "axisticksize = 20\n",
    "labelpad = 15\n",
    "\n",
    "std_1 = np.sqrt(data['mean'].values)\n",
    "std_2 = data['std'].values\n",
    "\n",
    "norm = np.max([std_1, std_2])\n",
    "\n",
    "axes.scatter(std_1/norm, std_2/norm,\n",
    "             color='tab:blue', s=60, alpha=0.75)\n",
    "axes.plot([0,1],[0,1], color='tab:red', lw=6, alpha=0.7)\n",
    "\n",
    "rmse = np.sqrt(mean_squared_error(std_1/norm, std_2/norm))\n",
    "\n",
    "axes.set_title('Comparsion of $\\sqrt{N}$ and $\\sigma$\\n' + 'RMSE = {0:.3f}'.format(rmse),\n",
    "               fontsize=titlesize, fontweight='bold')\n",
    "axes.set_xlabel('Square root of the mean measured\\nvalues $\\\\left( \\\\sqrt{N} \\\\right)$ for a specific bin',\n",
    "                fontsize=axislabelsize, labelpad=labelpad)\n",
    "axes.set_ylabel('Standard deviation $\\\\left( \\\\sigma \\\\right)$ of\\nmeasurements for a specific bin',\n",
    "                fontsize=axislabelsize, labelpad=labelpad)\n",
    "axes.tick_params(axis='both', which='major', labelsize=axisticksize)\n",
    "\n",
    "plt.savefig(figsave_dir + 'error_compare.' + figsave_format,\n",
    "            format=figsave_format,\n",
    "            dpi=figsave_dpi,\n",
    "            bbox_inches='tight')\n",
    "plt.show()"
   ]
  },
  {
   "cell_type": "markdown",
   "metadata": {},
   "source": [
    "## Fit theoretical curves on spectrums\n",
    "### Non-relat without Fermi function"
   ]
  },
  {
   "cell_type": "code",
   "execution_count": null,
   "metadata": {},
   "outputs": [],
   "source": [
    "def fit_non_relat(E, A, B, C, D):\n",
    "    \n",
    "    return A + B * E**(2/3) - C * E**(5/2) + D * E**(7/2)"
   ]
  },
  {
   "cell_type": "code",
   "execution_count": null,
   "metadata": {},
   "outputs": [],
   "source": [
    "energies = data.index\n",
    "popt_nrel, pcov_nrel = curve_fit(fit_non_relat, energies, data['mean'])\n",
    "perr_nrel = np.sqrt(np.diag(pcov_nrel))\n",
    "print(perr_nrel / popt_nrel * 100)"
   ]
  },
  {
   "cell_type": "code",
   "execution_count": null,
   "metadata": {},
   "outputs": [],
   "source": [
    "nrows = 1\n",
    "ncols = 1\n",
    "fig, axes = plt.subplots(nrows=nrows, ncols=ncols, figsize=(ncols*14,nrows*8))\n",
    "\n",
    "titlesize = 25\n",
    "axislabelsize = 25\n",
    "axisticksize = 20\n",
    "legendsize = 20\n",
    "\n",
    "axes.plot(data.index, data['mean'], label='Measured spectrum',\n",
    "          lw=4, color='tab:orange', alpha=1.0)\n",
    "axes.plot(energies, fit_non_relat(energies, *popt_nrel), label='Theoretical fitted',\n",
    "          lw=3, color='tab:blue', ls='--', alpha=0.8)\n",
    "\n",
    "\n",
    "axes.set_title('$\\\\beta$-spectrum of $^{14}$C isotope\\nNon-relativistic model', fontsize=titlesize, fontweight='bold')\n",
    "axes.set_xlabel('Light output [keVee]', fontsize=axislabelsize)\n",
    "axes.set_ylabel('Probability', fontsize=axislabelsize)\n",
    "axes.tick_params(axis='both', which='major', labelsize=axisticksize)\n",
    "\n",
    "plt.legend(fontsize=legendsize)\n",
    "plt.savefig(figsave_dir + 'non_relat_fit.' + figsave_format,\n",
    "            format=figsave_format,\n",
    "            dpi=figsave_dpi,\n",
    "            bbox_inches='tight')\n",
    "plt.show()"
   ]
  },
  {
   "cell_type": "markdown",
   "metadata": {},
   "source": [
    "### Non-relat with Fermi function"
   ]
  },
  {
   "cell_type": "code",
   "execution_count": null,
   "metadata": {},
   "outputs": [],
   "source": [
    "def fit_non_relat_fermi(E, p1, p2, p3, p4, p5):\n",
    "    \"\"\"\n",
    "    Non-relativistic case. The Fermi function is the following:\n",
    "    ``F = 2*pi*eta / (1 - e^(-2*pi*eta))``\n",
    "    \n",
    "    Where eta is p-dependent variable:\n",
    "    ``eta = Z*e^2*c / (h/2pi * p)``\n",
    "    Where `Z` is the beta-decayed nuclei's proton number, `e` is the\n",
    "    elemental charge, `c` is the speed of light, `h` is the Plack\n",
    "    constant, `p` is the momentum of the beta-particle.\n",
    "    \n",
    "    The momentum `p` could be evaluated by the known formula:\n",
    "    ``p = sqrt(2*m*E)``\n",
    "    Where `m` is the electron mass\n",
    "    \"\"\"\n",
    "    \n",
    "    # mass of electron [kg]\n",
    "    m_e = 9.10938356e-31\n",
    "    # light speed [m/s]\n",
    "    c_light = 299792458\n",
    "    \n",
    "    # Something:\n",
    "    #p = np.sqrt((E/c_light)**2 - (m_e * c_light)**2)\n",
    "    # Non-realtivistic:\n",
    "    p = np.sqrt(2*m_e*E)\n",
    "    \n",
    "    # Calculating Fermi function\n",
    "    # --------------------------\n",
    "    # eta = Z*e**2 * c / h_bar * p\n",
    "    # e**2 * c / h_bar = 72974 J/(T^2 * m^3) (joules per tesla squared cubic meter)\n",
    "    # eta = Z * 72974 / p\n",
    "    # [eta] = (J/(T^2 * m^3)) / (kg * m/s)\n",
    "    # [eta] = 1 / (s*(T^2 * m^2))\n",
    "    # Since we measured 14C : Z = 6\n",
    "    eta = Z * 72974 / p\n",
    "    F = 2*np.pi*eta/(1 - np.e**(-2*np.pi*eta))\n",
    "\n",
    "    return p1 + (p2 + p3 * E**(2/3) - p4 * E**(5/2) + p5 * E**(7/2)) * F"
   ]
  },
  {
   "cell_type": "code",
   "execution_count": null,
   "metadata": {},
   "outputs": [],
   "source": [
    "energies = data.index\n",
    "popt_nrel, pcov_nrel = curve_fit(fit_non_relat_fermi, energies, data['mean'])\n",
    "perr_nrel = np.sqrt(np.diag(pcov_nrel))\n",
    "print(perr_nrel / popt_nrel * 100)"
   ]
  },
  {
   "cell_type": "code",
   "execution_count": null,
   "metadata": {},
   "outputs": [],
   "source": [
    "nrows = 1\n",
    "ncols = 1\n",
    "fig, axes = plt.subplots(nrows=nrows, ncols=ncols, figsize=(ncols*14,nrows*8))\n",
    "\n",
    "titlesize = 25\n",
    "axislabelsize = 25\n",
    "axisticksize = 20\n",
    "legendsize = 20\n",
    "\n",
    "axes.plot(data.index, data['mean'], label='Measured spectrum',\n",
    "          lw=4, color='tab:orange', alpha=1.0)\n",
    "axes.plot(energies, fit_non_relat_fermi(energies, *popt_nrel), label='Theoretical fitted',\n",
    "          lw=3, color='tab:blue', ls='--', alpha=0.7)\n",
    "\n",
    "axes.set_title('$\\\\beta$-spectrum of $^{14}$C isotope\\nNon-relativistic model with Fermi function',\n",
    "               fontsize=titlesize, fontweight='bold')\n",
    "axes.set_xlabel('Light output [keVee]', fontsize=axislabelsize)\n",
    "axes.set_ylabel('Probability', fontsize=axislabelsize)\n",
    "axes.tick_params(axis='both', which='major', labelsize=axisticksize)\n",
    "\n",
    "plt.legend(fontsize=legendsize)\n",
    "plt.savefig(figsave_dir + 'non_relat_fermi_fit.' + figsave_format,\n",
    "            format=figsave_format,\n",
    "            dpi=figsave_dpi,\n",
    "            bbox_inches='tight')\n",
    "plt.show()"
   ]
  },
  {
   "cell_type": "code",
   "execution_count": null,
   "metadata": {},
   "outputs": [],
   "source": [
    "def fit_relat_fermi(E, p1, p2, p3, p4, p5, p6, p7, p8, p9, p10,\n",
    "                    p11, p12, p13, p14, p15, p16, p17, p18, p19, p20, p21, p22, p23, Z, omega):\n",
    "    \"\"\"\n",
    "    Relativistic case. The Fermi function is the following:\n",
    "    ``F = 2*pi*eta / (1 - e^(-2*pi*eta))``\n",
    "    \n",
    "    Where eta is p-dependent variable:\n",
    "    ``eta = Z*e^2*c / (h/2pi * p)``\n",
    "    Where `Z` is the beta-decayed nuclei's proton number, `e` is the\n",
    "    elemental charge, `c` is the speed of light, `h` is the Plack\n",
    "    constant, `p` is the momentum of the beta-particle.\n",
    "    \n",
    "    The momentum `p` could be evaluated by the known formula:\n",
    "    ``p = sqrt((E + m*c^2)^2 - (m*c^2)^2)``\n",
    "    Where `m` is the electron mass\n",
    "    \"\"\"\n",
    "\n",
    "    # Relativistic E_tot(E) and p(E)\n",
    "    E_tot = m_e*c_light**2 + E\n",
    "    p = np.sqrt((E_tot)**2 - m_e**2 * c_light**4)\n",
    "\n",
    "    # Calculating Fermi function\n",
    "    # --------------------------\n",
    "    # eta = Z*e**2 * c / h_bar * p\n",
    "    # e**2 * c / h_bar = 72974 J/(T^2 * m^3) (joules per tesla squared cubic meter)\n",
    "    # eta = Z * 72974 / p\n",
    "    # [eta] = (J/(T^2 * m^3)) / (kg * m/s)\n",
    "    # [eta] = 1 / (s*(T^2 * m^2))\n",
    "    # Since we measured 14C : Z = 6\n",
    "    eta = Z * 72974 / p\n",
    "    F = 2*np.pi*eta/(1 - np.e**(-2*np.pi*eta))\n",
    "    \n",
    "    return p1 + p2 * F * \\\n",
    "           (1/60 * c_light * np.sqrt(E * (2 * c_light**2 * m_e + p3 + p4 * E)) * \\\n",
    "            (-15 * c_light**8 * m_e**4 + 5 * c_light**6 * m_e**3 * (p5 + p6 * E - 3 * Q) + \\\n",
    "             c_light**4 * m_e**2 * E * (5 * Q - 2 * E * p7 + p8) * p8 + \\\n",
    "             2 * c_light**2 * m_e * E * (20 * Q**2 - p10 * 25 * Q * E + p11 + 9 * p12 * E**2) + \\\n",
    "             (30 * c_light**8 * m_e**4 * (c_light**2 * m_e + Q) * \\\n",
    "              np.log(np.sqrt(2 * c_light**2 * m_e + E * p13 + p14) + np.sqrt(E*p15 + p16)))/ \\\n",
    "             (np.sqrt(E*p17 + p18) * np.sqrt(2 * c_light**2 * m_e + E*p19 + p20)) + \\\n",
    "             p21 * 2 * E**2 * (10 * Q**2 - 15 * Q * E * p22 + Z * 6 * E**2 + omega)\n",
    "            )\n",
    "           ) + p23*F"
   ]
  },
  {
   "cell_type": "code",
   "execution_count": null,
   "metadata": {},
   "outputs": [],
   "source": [
    "energies = data.index\n",
    "popt_rel, pcov_rel = curve_fit(fit_relat_fermi, energies, data['mean'])\n",
    "perr_rel = np.sqrt(np.diag(pcov_rel))\n",
    "print(perr_rel / popt_rel * 100)"
   ]
  },
  {
   "cell_type": "code",
   "execution_count": null,
   "metadata": {},
   "outputs": [],
   "source": [
    "nrows = 1\n",
    "ncols = 1\n",
    "fig, axes = plt.subplots(nrows=nrows, ncols=ncols, figsize=(ncols*14,nrows*8))\n",
    "\n",
    "titlesize = 25\n",
    "axislabelsize = 25\n",
    "axisticksize = 20\n",
    "legendsize = 20\n",
    "\n",
    "axes.plot(data.index, data['mean'], label='Measured spectrum',\n",
    "          lw=4, color='tab:orange', alpha=1.0)\n",
    "axes.plot(energies, fit_relat_fermi(energies, *popt_rel), label='Theoretical fitted',\n",
    "          lw=3, color='tab:blue', ls='--', alpha=0.8)\n",
    "\n",
    "axes.set_title('$\\\\beta$-spectrum of $^{14}$C isotope\\nRelativistic model with Fermi function',\n",
    "               fontsize=titlesize, fontweight='bold')\n",
    "axes.set_xlabel('Light output [keVee]', fontsize=axislabelsize)\n",
    "axes.set_ylabel('Probability', fontsize=axislabelsize)\n",
    "axes.tick_params(axis='both', which='major', labelsize=axisticksize)\n",
    "\n",
    "plt.legend(fontsize=legendsize)\n",
    "plt.savefig(figsave_dir + 'relat_fermi_fit.' + figsave_format,\n",
    "            format=figsave_format,\n",
    "            dpi=figsave_dpi,\n",
    "            bbox_inches='tight')\n",
    "plt.show()"
   ]
  },
  {
   "cell_type": "code",
   "execution_count": null,
   "metadata": {},
   "outputs": [],
   "source": [
    "def relat_fermi_fit2(E, p1, p2, p3, p4, p5, p6,\n",
    "                     p7, p8, p9, p10, p11, p12, p13):\n",
    "    \n",
    "    # Relativistic E_tot(E) and p(E)\n",
    "    E_tot = m_e*c_light**2 + E\n",
    "    p = np.sqrt((E_tot)**2 - m_e**2 * c_light**4)\n",
    "\n",
    "    # Calculating Fermi function\n",
    "    # --------------------------\n",
    "    # eta = Z*e**2 * c / h_bar * p\n",
    "    # e**2 * c / h_bar = 72974 J/(T^2 * m^3) (joules per tesla squared cubic meter)\n",
    "    # eta = Z * 72974 / p\n",
    "    # [eta] = (J/(T^2 * m^3)) / (kg * m/s)\n",
    "    # [eta] = 1 / (s*(T^2 * m^2))\n",
    "    # Since we measured 14C : Z = 6\n",
    "    eta = Z * 72974 / p\n",
    "    F = 2*np.pi*eta/(1 - np.e**(-2*np.pi*eta))\n",
    "    \n",
    "    return (np.sqrt(p1 * E**2 + p2 * E + p3) *\n",
    "           (p4 * E**3 + p5 * E**2 + p6 * E) -\n",
    "           (p7 * np.arcsinh(p8 * np.sqrt(E) + p9) + p10)) * F * p11 + p12 * F + p13"
   ]
  },
  {
   "cell_type": "code",
   "execution_count": null,
   "metadata": {},
   "outputs": [],
   "source": [
    "energies = data.index\n",
    "popt_rel, pcov_rel = curve_fit(relat_fermi_fit2, energies, data['mean'])\n",
    "perr_rel = np.sqrt(np.diag(pcov_rel))\n",
    "print(perr_rel / popt_rel * 100)"
   ]
  },
  {
   "cell_type": "code",
   "execution_count": null,
   "metadata": {},
   "outputs": [],
   "source": [
    "nrows = 1\n",
    "ncols = 1\n",
    "fig, axes = plt.subplots(nrows=nrows, ncols=ncols, figsize=(ncols*14,nrows*8))\n",
    "\n",
    "titlesize = 25\n",
    "axislabelsize = 25\n",
    "axisticksize = 20\n",
    "legendsize = 20\n",
    "\n",
    "axes.plot(data.index, data['mean'], label='Measured spectrum',\n",
    "          lw=4, color='tab:orange', alpha=1.0)\n",
    "axes.plot(energies, relat_fermi_fit2(energies, *popt_rel), label='Theoretical fitted',\n",
    "          lw=3, color='tab:blue', ls='--', alpha=0.8)\n",
    "\n",
    "axes.set_title('$\\\\beta$-spectrum of $^{14}$C isotope\\nRelativistic model with Fermi function',\n",
    "               fontsize=titlesize, fontweight='bold')\n",
    "axes.set_xlabel('Light output [keVee]', fontsize=axislabelsize)\n",
    "axes.set_ylabel('Probability', fontsize=axislabelsize)\n",
    "axes.tick_params(axis='both', which='major', labelsize=axisticksize)\n",
    "\n",
    "plt.legend(fontsize=legendsize)\n",
    "plt.savefig(figsave_dir + 'relat_fermi_fit2.' + figsave_format,\n",
    "            format=figsave_format,\n",
    "            dpi=figsave_dpi,\n",
    "            bbox_inches='tight')\n",
    "plt.show()"
   ]
  },
  {
   "cell_type": "code",
   "execution_count": null,
   "metadata": {},
   "outputs": [],
   "source": []
  }
 ],
 "metadata": {
  "kernelspec": {
   "display_name": "Python 3 (ipykernel)",
   "language": "python",
   "name": "python3"
  },
  "language_info": {
   "codemirror_mode": {
    "name": "ipython",
    "version": 3
   },
   "file_extension": ".py",
   "mimetype": "text/x-python",
   "name": "python",
   "nbconvert_exporter": "python",
   "pygments_lexer": "ipython3",
   "version": "3.9.10"
  }
 },
 "nbformat": 4,
 "nbformat_minor": 4
}
