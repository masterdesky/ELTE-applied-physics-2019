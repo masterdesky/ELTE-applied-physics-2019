{
 "cells": [
  {
   "cell_type": "markdown",
   "metadata": {},
   "source": [
    "# Applied Physics Lab - IV. Scanning Electron Microscope @ ELTE"
   ]
  },
  {
   "cell_type": "code",
   "execution_count": null,
   "metadata": {},
   "outputs": [],
   "source": [
    "import os\n",
    "import numpy as np\n",
    "\n",
    "import seaborn as sns\n",
    "import matplotlib as mpl\n",
    "import matplotlib.pyplot as plt"
   ]
  },
  {
   "cell_type": "code",
   "execution_count": null,
   "metadata": {},
   "outputs": [],
   "source": [
    "# Set axtick dimensions\n",
    "major_size = 6\n",
    "major_width = 1.2\n",
    "minor_size = 3\n",
    "minor_width = 1\n",
    "mpl.rcParams['xtick.major.size'] = major_size\n",
    "mpl.rcParams['xtick.major.width'] = major_width\n",
    "mpl.rcParams['xtick.minor.size'] = minor_size\n",
    "mpl.rcParams['xtick.minor.width'] = minor_width\n",
    "mpl.rcParams['ytick.major.size'] = major_size\n",
    "mpl.rcParams['ytick.major.width'] = major_width\n",
    "mpl.rcParams['ytick.minor.size'] = minor_size\n",
    "mpl.rcParams['ytick.minor.width'] = minor_width\n",
    "\n",
    "# Seaborn style settings\n",
    "sns.set_style({'axes.axisbelow': True,\n",
    "               'axes.edgecolor': '.8',\n",
    "               'axes.facecolor': 'white',\n",
    "               'axes.grid': True,\n",
    "               'axes.labelcolor': '.15',\n",
    "               'axes.spines.bottom': True,\n",
    "               'axes.spines.left': True,\n",
    "               'axes.spines.right': True,\n",
    "               'axes.spines.top': True,\n",
    "               'figure.facecolor': 'white',\n",
    "               'font.family': ['sans-serif'],\n",
    "               'font.sans-serif': ['Arial',\n",
    "                'DejaVu Sans',\n",
    "                'Liberation Sans',\n",
    "                'Bitstream Vera Sans',\n",
    "                'sans-serif'],\n",
    "               'grid.color': '.8',\n",
    "               'grid.linestyle': '--',\n",
    "               'image.cmap': 'rocket',\n",
    "               'lines.solid_capstyle': 'round',\n",
    "               'patch.edgecolor': 'w',\n",
    "               'patch.force_edgecolor': True,\n",
    "               'text.color': '.15',\n",
    "               'xtick.bottom': True,\n",
    "               'xtick.color': '.15',\n",
    "               'xtick.direction': 'in',\n",
    "               'xtick.top': True,\n",
    "               'ytick.color': '.15',\n",
    "               'ytick.direction': 'in',\n",
    "               'ytick.left': True,\n",
    "               'ytick.right': True})"
   ]
  },
  {
   "cell_type": "code",
   "execution_count": null,
   "metadata": {},
   "outputs": [],
   "source": [
    "directory = '../data/'\n",
    "figsave_dir = '../Documentation/report/src/img_src/'\n",
    "figsave_format = 'pdf'\n",
    "figsave_dpi = 200\n",
    "    \n",
    "# Bold print\n",
    "b1 = '\\033[1m'\n",
    "b0 = '\\033[0m'"
   ]
  },
  {
   "cell_type": "code",
   "execution_count": null,
   "metadata": {},
   "outputs": [],
   "source": [
    "os.listdir(directory)"
   ]
  },
  {
   "cell_type": "markdown",
   "metadata": {},
   "source": [
    "## Calibrating parameters"
   ]
  },
  {
   "cell_type": "code",
   "execution_count": null,
   "metadata": {},
   "outputs": [],
   "source": [
    "# Distances are in [μm] = [m^-9]\n",
    "corner_to_same = 61.55"
   ]
  },
  {
   "cell_type": "code",
   "execution_count": null,
   "metadata": {},
   "outputs": [],
   "source": [
    "def calc_scale(pic_corner_to_same):\n",
    "    \n",
    "    # [μm/(1 px)]\n",
    "    pic_pix = corner_to_same / pic_corner_to_same\n",
    "    \n",
    "    # [μm/(150 px)]\n",
    "    pic_scale = pic_pix * 150\n",
    "    \n",
    "    return pic_pix, pic_scale"
   ]
  },
  {
   "cell_type": "markdown",
   "metadata": {},
   "source": [
    "#### Calibration image"
   ]
  },
  {
   "cell_type": "code",
   "execution_count": null,
   "metadata": {},
   "outputs": [],
   "source": [
    "# magnitude : 1250\n",
    "pic_cal_pix = 50/209\n",
    "pic_cal_scale = pic_cal_pix * 150\n",
    "print('Scale on calibration pic is {0:.2f} μm/150 px'.format(pic_cal_scale))"
   ]
  },
  {
   "cell_type": "code",
   "execution_count": null,
   "metadata": {},
   "outputs": [],
   "source": [
    "# magnitude : 1250\n",
    "pic_cal_pix, pic_cal_scale = calc_scale(pic_corner_to_same=529/2)\n",
    "print('Scale on calibration pic is {0:.2f} μm/150 px'.format(pic_cal_scale))"
   ]
  },
  {
   "cell_type": "markdown",
   "metadata": {},
   "source": [
    "#### 001"
   ]
  },
  {
   "cell_type": "code",
   "execution_count": null,
   "metadata": {},
   "outputs": [],
   "source": [
    "# magnitude : 100\n",
    "pic_001_pix, pic_001_scale = calc_scale(pic_corner_to_same=66)\n",
    "print('Scale on pic 001 is {0:.2f} μm/150 px'.format(pic_001_scale))"
   ]
  },
  {
   "cell_type": "code",
   "execution_count": null,
   "metadata": {},
   "outputs": [],
   "source": [
    "fig, axes = plt.subplots(figsize=(14,14))\n",
    "\n",
    "axislabelsize = 25\n",
    "axisticksize = 25\n",
    "\n",
    "img = plt.imread(directory + '001_a.bmp')\n",
    "#axes.imshow(img, cmap='Greys_r')\n",
    "hist, bin_edges = np.histogram(img.flatten(), bins=255)\n",
    "bin_centers = [np.mean([bin_edges[i], bin_edges[i+1]]) for i in range(len(hist))]\n",
    "axes.plot(bin_centers, hist,\n",
    "          color='k', lw=3)\n",
    "axes.fill_between(bin_centers, hist, color='k')\n",
    "axes.set_xlim(0,255)\n",
    "\n",
    "axes.set_xlabel('Intensity level', fontsize=axislabelsize)\n",
    "axes.set_ylabel('Counts', fontsize=axislabelsize)\n",
    "axes.tick_params(axis='both', which='major', labelsize=axisticksize)\n",
    "\n",
    "plt.savefig(figsave_dir + '001_a_hist.' + figsave_format,\n",
    "            format=figsave_format,\n",
    "            dpi=figsave_dpi,\n",
    "            bbox_inches='tight')\n",
    "\n",
    "plt.show()"
   ]
  },
  {
   "cell_type": "markdown",
   "metadata": {},
   "source": [
    "#### 002"
   ]
  },
  {
   "cell_type": "code",
   "execution_count": null,
   "metadata": {},
   "outputs": [],
   "source": [
    "# magnitude : 2000\n",
    "pic_002_pix, pic_002_scale = calc_scale(pic_corner_to_same=413.2)\n",
    "print('Scale on pic 002 is {0:.2f} μm/150 px'.format(pic_002_scale))"
   ]
  },
  {
   "cell_type": "code",
   "execution_count": null,
   "metadata": {},
   "outputs": [],
   "source": [
    "fig, axes = plt.subplots(figsize=(14,14))\n",
    "\n",
    "axislabelsize = 25\n",
    "axisticksize = 25\n",
    "\n",
    "img = plt.imread(directory + '002_a.bmp')\n",
    "#axes.imshow(img, cmap='Greys_r')\n",
    "hist, bin_edges = np.histogram(img.flatten(), bins=255)\n",
    "bin_centers = [np.mean([bin_edges[i], bin_edges[i+1]]) for i in range(len(hist))]\n",
    "axes.plot(bin_centers, hist,\n",
    "          color='k', lw=3)\n",
    "axes.fill_between(bin_centers, hist, color='k')\n",
    "axes.set_xlim(0,255)\n",
    "\n",
    "axes.set_xlabel('Intensity level', fontsize=axislabelsize)\n",
    "axes.set_ylabel('Counts', fontsize=axislabelsize)\n",
    "axes.tick_params(axis='both', which='major', labelsize=axisticksize)\n",
    "\n",
    "plt.savefig(figsave_dir + '002_a_hist.' + figsave_format,\n",
    "            format=figsave_format,\n",
    "            dpi=figsave_dpi,\n",
    "            bbox_inches='tight')\n",
    "\n",
    "plt.show()"
   ]
  },
  {
   "cell_type": "markdown",
   "metadata": {},
   "source": [
    "#### 003"
   ]
  },
  {
   "cell_type": "code",
   "execution_count": null,
   "metadata": {
    "scrolled": true
   },
   "outputs": [],
   "source": [
    "# magnitude : 700\n",
    "pic_003_pix, pic_003_scale = calc_scale(pic_corner_to_same=293.4)\n",
    "print('Scale on pic 003 is {0:.2f} μm/150 px'.format(pic_003_scale))"
   ]
  },
  {
   "cell_type": "code",
   "execution_count": null,
   "metadata": {},
   "outputs": [],
   "source": [
    "fig, axes = plt.subplots(figsize=(14,14))\n",
    "\n",
    "axislabelsize = 25\n",
    "axisticksize = 25\n",
    "\n",
    "img = plt.imread(directory + '003_a.bmp')\n",
    "#axes.imshow(img, cmap='Greys_r')\n",
    "hist, bin_edges = np.histogram(img.flatten(), bins=255)\n",
    "bin_centers = [np.mean([bin_edges[i], bin_edges[i+1]]) for i in range(len(hist))]\n",
    "axes.plot(bin_centers, hist,\n",
    "          color='k', lw=3)\n",
    "axes.fill_between(bin_centers, hist, color='k')\n",
    "axes.set_xlim(0,255)\n",
    "\n",
    "axes.set_xlabel('Intensity level', fontsize=axislabelsize)\n",
    "axes.set_ylabel('Counts', fontsize=axislabelsize)\n",
    "axes.tick_params(axis='both', which='major', labelsize=axisticksize)\n",
    "\n",
    "plt.savefig(figsave_dir + '003_a_hist.' + figsave_format,\n",
    "            format=figsave_format,\n",
    "            dpi=figsave_dpi,\n",
    "            bbox_inches='tight')\n",
    "\n",
    "plt.show()"
   ]
  },
  {
   "cell_type": "markdown",
   "metadata": {},
   "source": [
    "#### 004"
   ]
  },
  {
   "cell_type": "code",
   "execution_count": null,
   "metadata": {},
   "outputs": [],
   "source": [
    "# magnitude : 200\n",
    "pic_004_pix, pic_004_scale = calc_scale(pic_corner_to_same=84.4)\n",
    "print('Scale on pic 004 is {0:.2f} μm/150 px'.format(pic_004_scale))"
   ]
  },
  {
   "cell_type": "code",
   "execution_count": null,
   "metadata": {},
   "outputs": [],
   "source": [
    "fig, axes = plt.subplots(figsize=(14,14))\n",
    "\n",
    "axislabelsize = 25\n",
    "axisticksize = 25\n",
    "\n",
    "img = plt.imread(directory + '004_a.bmp')\n",
    "#axes.imshow(img, cmap='Greys_r')\n",
    "hist, bin_edges = np.histogram(img.flatten(), bins=255)\n",
    "bin_centers = [np.mean([bin_edges[i], bin_edges[i+1]]) for i in range(len(hist))]\n",
    "axes.plot(bin_centers, hist,\n",
    "          color='k', lw=3)\n",
    "axes.fill_between(bin_centers, hist, color='k')\n",
    "axes.set_xlim(0,255)\n",
    "\n",
    "axes.set_xlabel('Intensity level', fontsize=axislabelsize)\n",
    "axes.set_ylabel('Counts', fontsize=axislabelsize)\n",
    "axes.tick_params(axis='both', which='major', labelsize=axisticksize)\n",
    "\n",
    "plt.savefig(figsave_dir + '004_a_hist.' + figsave_format,\n",
    "            format=figsave_format,\n",
    "            dpi=figsave_dpi,\n",
    "            bbox_inches='tight')\n",
    "\n",
    "plt.show()"
   ]
  },
  {
   "cell_type": "markdown",
   "metadata": {},
   "source": [
    "#### 006"
   ]
  },
  {
   "cell_type": "code",
   "execution_count": null,
   "metadata": {},
   "outputs": [],
   "source": [
    "fig, axes = plt.subplots(figsize=(14,14))\n",
    "\n",
    "axislabelsize = 25\n",
    "axisticksize = 25\n",
    "\n",
    "img = plt.imread(directory + '006_a.bmp')\n",
    "#axes.imshow(img, cmap='Greys_r')\n",
    "hist, bin_edges = np.histogram(img.flatten(), bins=255)\n",
    "bin_centers = [np.mean([bin_edges[i], bin_edges[i+1]]) for i in range(len(hist))]\n",
    "axes.plot(bin_centers, hist,\n",
    "          color='k', lw=3)\n",
    "axes.fill_between(bin_centers, hist, color='k')\n",
    "axes.set_xlim(0,255)\n",
    "\n",
    "axes.set_xlabel('Intensity level', fontsize=axislabelsize)\n",
    "axes.set_ylabel('Counts', fontsize=axislabelsize)\n",
    "axes.tick_params(axis='both', which='major', labelsize=axisticksize)\n",
    "\n",
    "plt.savefig(figsave_dir + '006_a_hist.' + figsave_format,\n",
    "            format=figsave_format,\n",
    "            dpi=figsave_dpi,\n",
    "            bbox_inches='tight')\n",
    "\n",
    "plt.show()"
   ]
  },
  {
   "cell_type": "markdown",
   "metadata": {},
   "source": [
    "#### 007"
   ]
  },
  {
   "cell_type": "code",
   "execution_count": null,
   "metadata": {},
   "outputs": [],
   "source": [
    "fig, axes = plt.subplots(figsize=(14,14))\n",
    "\n",
    "axislabelsize = 25\n",
    "axisticksize = 25\n",
    "\n",
    "img = plt.imread(directory + '007_a.bmp')\n",
    "#axes.imshow(img, cmap='Greys_r')\n",
    "hist, bin_edges = np.histogram(img.flatten(), bins=255)\n",
    "bin_centers = [np.mean([bin_edges[i], bin_edges[i+1]]) for i in range(len(hist))]\n",
    "axes.plot(bin_centers, hist,\n",
    "          color='k', lw=3)\n",
    "axes.fill_between(bin_centers, hist, color='k')\n",
    "axes.set_xlim(0,255)\n",
    "\n",
    "axes.set_xlabel('Intensity level', fontsize=axislabelsize)\n",
    "axes.set_ylabel('Counts', fontsize=axislabelsize)\n",
    "axes.tick_params(axis='both', which='major', labelsize=axisticksize)\n",
    "\n",
    "plt.savefig(figsave_dir + '007_a_hist.' + figsave_format,\n",
    "            format=figsave_format,\n",
    "            dpi=figsave_dpi,\n",
    "            bbox_inches='tight')\n",
    "\n",
    "plt.show()"
   ]
  },
  {
   "cell_type": "markdown",
   "metadata": {},
   "source": [
    "#### 008"
   ]
  },
  {
   "cell_type": "code",
   "execution_count": null,
   "metadata": {},
   "outputs": [],
   "source": [
    "fig, axes = plt.subplots(figsize=(14,14))\n",
    "\n",
    "axislabelsize = 25\n",
    "axisticksize = 25\n",
    "\n",
    "img = plt.imread(directory + '008_a.bmp')\n",
    "#axes.imshow(img, cmap='Greys_r')\n",
    "hist, bin_edges = np.histogram(img.flatten(), bins=255)\n",
    "bin_centers = [np.mean([bin_edges[i], bin_edges[i+1]]) for i in range(len(hist))]\n",
    "axes.plot(bin_centers, hist,\n",
    "          color='k', lw=3)\n",
    "axes.fill_between(bin_centers, hist, color='k')\n",
    "axes.set_xlim(0,255)\n",
    "\n",
    "axes.set_xlabel('Intensity level', fontsize=axislabelsize)\n",
    "axes.set_ylabel('Counts', fontsize=axislabelsize)\n",
    "axes.tick_params(axis='both', which='major', labelsize=axisticksize)\n",
    "\n",
    "plt.savefig(figsave_dir + '008_a_hist.' + figsave_format,\n",
    "            format=figsave_format,\n",
    "            dpi=figsave_dpi,\n",
    "            bbox_inches='tight')\n",
    "\n",
    "plt.show()"
   ]
  },
  {
   "cell_type": "markdown",
   "metadata": {},
   "source": [
    "#### 009"
   ]
  },
  {
   "cell_type": "code",
   "execution_count": null,
   "metadata": {},
   "outputs": [],
   "source": [
    "fig, axes = plt.subplots(figsize=(14,14))\n",
    "\n",
    "axislabelsize = 25\n",
    "axisticksize = 25\n",
    "\n",
    "img = plt.imread(directory + '009_a.bmp')\n",
    "#axes.imshow(img, cmap='Greys_r')\n",
    "hist, bin_edges = np.histogram(img.flatten(), bins=255)\n",
    "bin_centers = [np.mean([bin_edges[i], bin_edges[i+1]]) for i in range(len(hist))]\n",
    "axes.plot(bin_centers, hist,\n",
    "          color='k', lw=3)\n",
    "axes.fill_between(bin_centers, hist, color='k')\n",
    "axes.set_xlim(0,255)\n",
    "\n",
    "axes.set_xlabel('Intensity level', fontsize=axislabelsize)\n",
    "axes.set_ylabel('Counts', fontsize=axislabelsize)\n",
    "axes.tick_params(axis='both', which='major', labelsize=axisticksize)\n",
    "\n",
    "plt.savefig(figsave_dir + '009_a_hist.' + figsave_format,\n",
    "            format=figsave_format,\n",
    "            dpi=figsave_dpi,\n",
    "            bbox_inches='tight')\n",
    "\n",
    "plt.show()"
   ]
  },
  {
   "cell_type": "markdown",
   "metadata": {},
   "source": [
    "#### 010"
   ]
  },
  {
   "cell_type": "code",
   "execution_count": null,
   "metadata": {},
   "outputs": [],
   "source": [
    "fig, axes = plt.subplots(figsize=(14,14))\n",
    "\n",
    "axislabelsize = 25\n",
    "axisticksize = 25\n",
    "\n",
    "img = plt.imread(directory + '010_a.bmp')\n",
    "#axes.imshow(img, cmap='Greys_r')\n",
    "hist, bin_edges = np.histogram(img.flatten(), bins=255)\n",
    "bin_centers = [np.mean([bin_edges[i], bin_edges[i+1]]) for i in range(len(hist))]\n",
    "axes.plot(bin_centers, hist,\n",
    "          color='k', lw=3)\n",
    "axes.fill_between(bin_centers, hist, color='k')\n",
    "axes.set_xlim(0,255)\n",
    "\n",
    "axes.set_xlabel('Intensity level', fontsize=axislabelsize)\n",
    "axes.set_ylabel('Counts', fontsize=axislabelsize)\n",
    "axes.tick_params(axis='both', which='major', labelsize=axisticksize)\n",
    "\n",
    "plt.savefig(figsave_dir + '010_a_hist.' + figsave_format,\n",
    "            format=figsave_format,\n",
    "            dpi=figsave_dpi,\n",
    "            bbox_inches='tight')\n",
    "\n",
    "plt.show()"
   ]
  },
  {
   "cell_type": "code",
   "execution_count": null,
   "metadata": {},
   "outputs": [],
   "source": []
  },
  {
   "cell_type": "code",
   "execution_count": null,
   "metadata": {},
   "outputs": [],
   "source": []
  },
  {
   "cell_type": "code",
   "execution_count": null,
   "metadata": {},
   "outputs": [],
   "source": []
  },
  {
   "cell_type": "code",
   "execution_count": null,
   "metadata": {},
   "outputs": [],
   "source": [
    "plt.figure(figsize=(12,8))\n",
    "plt.plot([100,200,1250,1700,2000],[139.89,109.39,35.89,31.47,22.34], c='tab:red')\n",
    "plt.scatter([100,200,1250,1700,2000],[139.89,109.39,35.89,31.47,22.34], s=150)\n",
    "plt.show()"
   ]
  },
  {
   "cell_type": "code",
   "execution_count": null,
   "metadata": {},
   "outputs": [],
   "source": []
  },
  {
   "cell_type": "code",
   "execution_count": null,
   "metadata": {},
   "outputs": [],
   "source": []
  }
 ],
 "metadata": {
  "kernelspec": {
   "display_name": "Python 3 (ipykernel)",
   "language": "python",
   "name": "python3"
  },
  "language_info": {
   "codemirror_mode": {
    "name": "ipython",
    "version": 3
   },
   "file_extension": ".py",
   "mimetype": "text/x-python",
   "name": "python",
   "nbconvert_exporter": "python",
   "pygments_lexer": "ipython3",
   "version": "3.9.10"
  }
 },
 "nbformat": 4,
 "nbformat_minor": 4
}
