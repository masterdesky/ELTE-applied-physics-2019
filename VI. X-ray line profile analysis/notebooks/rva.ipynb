{
 "cells": [
  {
   "cell_type": "code",
   "execution_count": null,
   "metadata": {},
   "outputs": [],
   "source": [
    "import os\n",
    "import numpy as np\n",
    "\n",
    "import seaborn as sns\n",
    "import matplotlib as mpl\n",
    "import matplotlib.cm as cm\n",
    "import matplotlib.pyplot as plt\n",
    "import matplotlib.colors as mcolors\n",
    "\n",
    "from matplotlib.lines import Line2D"
   ]
  },
  {
   "cell_type": "code",
   "execution_count": null,
   "metadata": {},
   "outputs": [],
   "source": [
    "# Set axtick dimensions\n",
    "major_size = 6\n",
    "major_width = 1.2\n",
    "minor_size = 3\n",
    "minor_width = 1\n",
    "mpl.rcParams['xtick.major.size'] = major_size\n",
    "mpl.rcParams['xtick.major.width'] = major_width\n",
    "mpl.rcParams['xtick.minor.size'] = minor_size\n",
    "mpl.rcParams['xtick.minor.width'] = minor_width\n",
    "mpl.rcParams['ytick.major.size'] = major_size\n",
    "mpl.rcParams['ytick.major.width'] = major_width\n",
    "mpl.rcParams['ytick.minor.size'] = minor_size\n",
    "mpl.rcParams['ytick.minor.width'] = minor_width\n",
    "\n",
    "# Seaborn style settings\n",
    "sns.set_style({'axes.axisbelow': True,\n",
    "               'axes.edgecolor': '.8',\n",
    "               'axes.facecolor': 'white',\n",
    "               'axes.grid': True,\n",
    "               'axes.labelcolor': '.15',\n",
    "               'axes.spines.bottom': True,\n",
    "               'axes.spines.left': True,\n",
    "               'axes.spines.right': True,\n",
    "               'axes.spines.top': True,\n",
    "               'figure.facecolor': 'white',\n",
    "               'font.family': ['sans-serif'],\n",
    "               'font.sans-serif': ['Arial',\n",
    "                'DejaVu Sans',\n",
    "                'Liberation Sans',\n",
    "                'Bitstream Vera Sans',\n",
    "                'sans-serif'],\n",
    "               'grid.color': '.8',\n",
    "               'grid.linestyle': '--',\n",
    "               'image.cmap': 'rocket',\n",
    "               'lines.solid_capstyle': 'round',\n",
    "               'patch.edgecolor': 'w',\n",
    "               'patch.force_edgecolor': True,\n",
    "               'text.color': '.15',\n",
    "               'xtick.bottom': True,\n",
    "               'xtick.color': '.15',\n",
    "               'xtick.direction': 'in',\n",
    "               'xtick.top': True,\n",
    "               'ytick.color': '.15',\n",
    "               'ytick.direction': 'in',\n",
    "               'ytick.left': True,\n",
    "               'ytick.right': True})"
   ]
  },
  {
   "cell_type": "code",
   "execution_count": null,
   "metadata": {},
   "outputs": [],
   "source": [
    "figsave_dir = '../Documentation/report/src/img_src/'\n",
    "figsave_format = 'pdf'\n",
    "figsave_dpi = 150\n",
    "\n",
    "data_dir = '../data/'\n",
    "os.listdir(data_dir)"
   ]
  },
  {
   "cell_type": "markdown",
   "metadata": {},
   "source": [
    "## Prepare measured data"
   ]
  },
  {
   "cell_type": "code",
   "execution_count": null,
   "metadata": {},
   "outputs": [],
   "source": [
    "dat_1 = np.genfromtxt(data_dir + '1.dat_001')\n",
    "dat_2 = np.genfromtxt(data_dir + '2.dat_001')\n",
    "dat_3 = np.genfromtxt(data_dir + '3.dat_001')\n",
    "dat_4 = np.genfromtxt(data_dir + '4.dat')"
   ]
  },
  {
   "cell_type": "code",
   "execution_count": null,
   "metadata": {},
   "outputs": [],
   "source": [
    "fig, axes = plt.subplots(figsize=(18,12))\n",
    "\n",
    "axislabelsize = 30\n",
    "axisticksize = 22\n",
    "legendsize = 25\n",
    "\n",
    "axes.plot(dat_1[:,0], dat_1[:,1],\n",
    "          color='tab:red')\n",
    "axes.plot(dat_2[:,0], dat_2[:,1],\n",
    "          color='tab:red')\n",
    "axes.plot(dat_3[:,0], dat_3[:,1],\n",
    "          color='tab:red')\n",
    "\n",
    "axes.set_xlabel('Position ($2 \\Theta$) [deg$^{\\circ}$]', fontsize=axislabelsize)#, fontweight='bold')\n",
    "axes.set_ylabel('Intensity', fontsize=axislabelsize)#, fontweight='bold')\n",
    "\n",
    "axes.tick_params(axis='both', which='major', labelsize=axisticksize)\n",
    "\n",
    "handles = [Line2D([0], [0], color='tab:red', lw=5, label='Measured dataset')]\n",
    "plt.legend(handles=handles, loc='upper right', fontsize=legendsize)\n",
    "\n",
    "plt.savefig(figsave_dir +\n",
    "            'measured_data.' + figsave_format,\n",
    "            format=figsave_format,\n",
    "            dpi=figsave_dpi)\n",
    "plt.show()"
   ]
  },
  {
   "cell_type": "code",
   "execution_count": null,
   "metadata": {},
   "outputs": [],
   "source": [
    "fig, axes = plt.subplots(figsize=(18,12))\n",
    "\n",
    "axislabelsize = 30\n",
    "axisticksize = 22\n",
    "legendsize = 25\n",
    "\n",
    "axes.plot(dat_4[:,0], dat_4[:,1],\n",
    "          color='springgreen')\n",
    "\n",
    "axes.set_xlabel('Position ($2 \\Theta$) [deg$^{\\circ}$]', fontsize=axislabelsize)#, fontweight='bold')\n",
    "axes.set_ylabel('Intensity', fontsize=axislabelsize)#, fontweight='bold')\n",
    "\n",
    "axes.tick_params(axis='both', which='major', labelsize=axisticksize)\n",
    "\n",
    "handles = [Line2D([0], [0], color='limegreen', lw=5, label='Concatenated dataset')]\n",
    "plt.legend(handles=handles, loc='upper right', fontsize=legendsize)\n",
    "\n",
    "plt.savefig(figsave_dir +\n",
    "            'prepared_data.' + figsave_format,\n",
    "            format=figsave_format,\n",
    "            dpi=figsave_dpi)\n",
    "plt.show()"
   ]
  },
  {
   "cell_type": "markdown",
   "metadata": {},
   "source": [
    "## Williamson-Hall method"
   ]
  },
  {
   "cell_type": "markdown",
   "metadata": {},
   "source": [
    "### Calculating quantities for Williamson-Hall figures"
   ]
  },
  {
   "cell_type": "code",
   "execution_count": null,
   "metadata": {},
   "outputs": [],
   "source": [
    "def sum_of_squares(arr):\n",
    "    return np.sum([i*i for i in arr])"
   ]
  },
  {
   "cell_type": "code",
   "execution_count": null,
   "metadata": {},
   "outputs": [],
   "source": [
    "# Constants\n",
    "# 1. Wavelength of used x-ray\n",
    "# lambda = 0.15406 nm\n",
    "lmbda = 0.15406\n",
    "# 2. Coefficients for dislocations\n",
    "q_edge = 1.67\n",
    "q_screw = 2.33\n",
    "q_mixed = np.mean((q_edge, q_screw))\n",
    "# 3. hkl indeces of lattice planes\n",
    "hkl = np.array((\n",
    "    (1,1,1),\n",
    "    (2,0,0),\n",
    "    (2,2,0),\n",
    "    (3,1,1),\n",
    "    (2,2,2),\n",
    "    (4,0,0)\n",
    "))\n",
    "hkl_sqr = np.array([((v[0]**2*v[1]**2 + v[0]**2*v[2]**2 + v[1]**2*v[2]**2) /\n",
    "                      sum_of_squares(v)**2) for v in hkl])\n",
    "# 4. C_h00 values\n",
    "Ch00_edge = 0.3076\n",
    "Ch00_screw = 0.3029\n",
    "Ch00_mixed = np.mean((Ch00_edge, Ch00_screw))\n",
    "\n",
    "# --------------------------------------------\n",
    "\n",
    "# Positional variables\n",
    "# d(2*theta)\n",
    "d_two_theta = np.array((\n",
    "    0.134265734,\n",
    "    0.231407148,\n",
    "    0.259450399,\n",
    "    0.407055618,\n",
    "    0.284574022,\n",
    "    0.776158793\n",
    "))\n",
    "# Convert to [rad]\n",
    "d_two_theta_rad = d_two_theta * np.pi/180\n",
    "\n",
    "# 2*theta [deg]\n",
    "two_theta = np.array((\n",
    "    43.297,\n",
    "    50.433,\n",
    "    74.13,\n",
    "    89.931,\n",
    "    95.139,\n",
    "    116.919\n",
    "))\n",
    "# Convert to [rad]\n",
    "two_theta_rad = two_theta * np.pi/180\n",
    "\n",
    "# Full-width at half maximum of diffraction peaks\n",
    "# FWHM = cos(theta) * delta(2*theta) / lambda\n",
    "# [rad/nm]\n",
    "FWHM = np.cos(two_theta_rad/2) * d_two_theta_rad / lmbda\n",
    "\n",
    "# Lengths of diffraction vectors\n",
    "# g = 2 * sin(theta) / lambda\n",
    "# [1/nm]\n",
    "g = 2 * np.sin(two_theta_rad/2) / lmbda\n",
    "\n",
    "# C values\n",
    "C_edge = Ch00_edge * (1 - q_edge*hkl_sqr)\n",
    "C_screw = Ch00_screw * (1 - q_screw*hkl_sqr)\n",
    "C_mixed = Ch00_mixed * (1 - q_mixed*hkl_sqr)\n",
    "\n",
    "# g^2 * C values for modified Willamson-Hall figures\n",
    "mod_WH_edge = g**2 * C_edge\n",
    "mod_WH_screw = g**2 * C_screw\n",
    "mod_WH_mixed =  g**2 * C_mixed\n",
    "mod_WH_values = [mod_WH_edge, mod_WH_screw, mod_WH_mixed]"
   ]
  },
  {
   "cell_type": "markdown",
   "metadata": {},
   "source": [
    "### Williamson-Hall figures"
   ]
  },
  {
   "cell_type": "markdown",
   "metadata": {},
   "source": [
    "#### Simple Williamson-Hall figure"
   ]
  },
  {
   "cell_type": "code",
   "execution_count": null,
   "metadata": {},
   "outputs": [],
   "source": [
    "fig, axes = plt.subplots(figsize=(9,8))\n",
    "\n",
    "axislabelsize = 22\n",
    "axisticksize = 19\n",
    "\n",
    "scattersize = 17**2\n",
    "\n",
    "axes.scatter(g, FWHM,\n",
    "             s=scattersize,\n",
    "             marker='s', color='red', facecolors='none')\n",
    "\n",
    "axes.set_xlabel('Legth of diffraction vector ($|g|$)', fontsize=axislabelsize)\n",
    "axes.set_ylabel('FWHM', fontsize=axislabelsize)\n",
    "axes.tick_params(axis='both', which='major', labelsize=axisticksize)\n",
    "\n",
    "plt.savefig(figsave_dir +\n",
    "            'williamson_hall.' + figsave_format,\n",
    "            format=figsave_format,\n",
    "            dpi=figsave_dpi)\n",
    "\n",
    "plt.show()"
   ]
  },
  {
   "cell_type": "markdown",
   "metadata": {},
   "source": [
    "#### Modified Williamson-Hall figure"
   ]
  },
  {
   "cell_type": "code",
   "execution_count": null,
   "metadata": {},
   "outputs": [],
   "source": [
    "# Fit 2nd order polynoms\n",
    "z_edge, cov_edge = np.polyfit(mod_WH_edge, FWHM, 2, cov=True)\n",
    "perr_edge = np.sqrt(np.diag(cov_edge))\n",
    "\n",
    "z_screw, cov_screw = np.polyfit(mod_WH_screw, FWHM, 2, cov=True)\n",
    "perr_screw = np.sqrt(np.diag(cov_screw))\n",
    "\n",
    "z_mixed, cov_mixed = np.polyfit(mod_WH_mixed, FWHM, 2, cov=True)\n",
    "perr_mixed = np.sqrt(np.diag(cov_mixed))\n",
    "# -------------------------------------------\n",
    "z_values = [z_edge, z_screw, z_mixed]\n",
    "perr_values = [perr_edge, perr_screw, perr_mixed]"
   ]
  },
  {
   "cell_type": "code",
   "execution_count": null,
   "metadata": {},
   "outputs": [],
   "source": [
    "def plot_polyfit(arr, z):\n",
    "    new_arr = np.zeros(len(arr))\n",
    "    \n",
    "    for idx, p in enumerate(arr):\n",
    "        for rank in range(len(z)):\n",
    "            new_arr[idx] += z[-rank-1] * p**rank\n",
    "    return new_arr"
   ]
  },
  {
   "cell_type": "code",
   "execution_count": null,
   "metadata": {},
   "outputs": [],
   "source": [
    "disloc_types = ['edge', 'screw', 'mixed']\n",
    "disloc_labels = [\n",
    "    'Edge disloc. only',\n",
    "    'Screw disloc. only',\n",
    "    'Mixed dislocations'\n",
    "]\n",
    "disloc_colors = ['tab:red', 'tab:blue', 'tab:green']"
   ]
  },
  {
   "cell_type": "code",
   "execution_count": null,
   "metadata": {},
   "outputs": [],
   "source": [
    "nrows = 1\n",
    "ncols = 1\n",
    "\n",
    "axislabelsize = 22\n",
    "axisticksize = 19\n",
    "legendsize = 20\n",
    "scattersize = 17**2\n",
    "\n",
    "for i in range(3):\n",
    "    fig, axes = plt.subplots(nrows=nrows, ncols=ncols, figsize=(ncols*9, nrows*8))\n",
    "\n",
    "    axes.scatter(mod_WH_values[i], FWHM,\n",
    "                 label=disloc_labels[i], s=scattersize,\n",
    "                 marker='s', color=disloc_colors[i], facecolors='none')\n",
    "    axes.plot(np.linspace(min(mod_WH_values[i]),max(mod_WH_values[i]),100),\n",
    "              plot_polyfit(arr=np.linspace(min(mod_WH_values[i]),max(mod_WH_values[i]),100), z=z_values[i]),\n",
    "              color='k', lw=3, alpha=0.6)\n",
    "\n",
    "    # Handles for subplot legends\n",
    "    handles = [Line2D([0], [0], marker='s', color='white', markeredgecolor=disloc_colors[i],\n",
    "                      markersize=17, label=disloc_labels[i]),\n",
    "               Line2D([0], [0], color='black', lw=5, label='Fitted 2nd order polynom')]\n",
    "    axes.legend(handles=handles, loc='upper left', fontsize=legendsize)\n",
    "\n",
    "    axes.set_xlabel('$g^2 C_{%s}$' % disloc_types[i], fontsize=axislabelsize)\n",
    "    axes.set_ylabel('FWHM', fontsize=axislabelsize)\n",
    "    axes.tick_params(axis='both', which='major', labelsize=axisticksize)\n",
    "\n",
    "    plt.savefig(figsave_dir +\n",
    "                'williamson_hall_modified_{0}.'.format(disloc_types[i]) + figsave_format,\n",
    "                format=figsave_format,\n",
    "                dpi=figsave_dpi)\n",
    "\n",
    "    plt.show()"
   ]
  },
  {
   "cell_type": "markdown",
   "metadata": {},
   "source": [
    "## CMWP method"
   ]
  },
  {
   "cell_type": "code",
   "execution_count": null,
   "metadata": {},
   "outputs": [],
   "source": [
    "dat_4_cmwp = np.genfromtxt(data_dir + '4.int.4.dat')"
   ]
  },
  {
   "cell_type": "code",
   "execution_count": null,
   "metadata": {},
   "outputs": [],
   "source": [
    "fig, axes = plt.subplots(figsize=(18,12))\n",
    "\n",
    "axislabelsize = 30\n",
    "axisticksize = 22\n",
    "legendsize = 25\n",
    "\n",
    "axes.plot(dat_4_cmwp[:,0], dat_4_cmwp[:,1],\n",
    "          color='tab:red', label='Measured dataset')\n",
    "axes.plot(dat_4_cmwp[:,0], dat_4_cmwp[:,2],\n",
    "          color='springgreen', label='Fitted dataset')\n",
    "axes.plot(dat_4_cmwp[:,0], dat_4_cmwp[:,3],\n",
    "          color='tab:blue', label='Difference')\n",
    "\n",
    "axes.set_xlabel('Position ($2 \\Theta$) [deg$^{\\circ}$]', fontsize=axislabelsize)#, fontweight='bold')\n",
    "axes.set_ylabel('Intensity', fontsize=axislabelsize)#, fontweight='bold')\n",
    "\n",
    "axes.tick_params(axis='both', which='major', labelsize=axisticksize)\n",
    "\n",
    "plt.legend(loc='upper right', fontsize=legendsize)\n",
    "\n",
    "plt.savefig(figsave_dir +\n",
    "            'CMWP_fit.' + figsave_format,\n",
    "            format=figsave_format,\n",
    "            dpi=figsave_dpi)\n",
    "plt.show()"
   ]
  },
  {
   "cell_type": "code",
   "execution_count": null,
   "metadata": {},
   "outputs": [],
   "source": [
    "def lognorm(X, sigma, m):\n",
    "    \n",
    "    return 1/(np.sqrt(2*np.pi)*X*sigma) * np.exp(-(np.log(X/m))**2/(2*sigma**2))"
   ]
  },
  {
   "cell_type": "code",
   "execution_count": null,
   "metadata": {},
   "outputs": [],
   "source": [
    "fig, axes = plt.subplots(figsize=(18,12))\n",
    "\n",
    "axislabelsize = 30\n",
    "axisticksize = 22\n",
    "legendsize = 25\n",
    "\n",
    "X = np.linspace(0,130,1000)\n",
    "sigma = 0.915908\n",
    "m = 6.53995\n",
    "axes.plot(X, lognorm(X, sigma, m),\n",
    "          color='k', lw=4)#, label='Log-normal distribution')\n",
    "axes.axvline(x=m*np.exp(1/2 * sigma**2),\n",
    "             color='tab:red', ls='--', lw=3, label=r'$\\left< x \\right>_{arit} = %.2f$ nm' % (m*np.exp(1/2 * sigma**2)))\n",
    "axes.axvline(x=m*np.exp(5/2 * sigma**2),\n",
    "             color='tab:blue', ls='--', lw=3, label=r'$\\left< x \\right>_{area} = %.2f$ nm' % (m*np.exp(5/2 * sigma**2)))\n",
    "axes.axvline(x=m*np.exp(7/2 * sigma**2),\n",
    "             color='tab:green', ls='--', lw=3, label=r'$\\left< x \\right>_{vol} = %.2f$ nm' % (m*np.exp(7/2 * sigma**2)))\n",
    "\n",
    "axes.set_xlabel('Grain size [nm]', fontsize=axislabelsize)#, fontweight='bold')\n",
    "axes.set_ylabel('Probability', fontsize=axislabelsize)#, fontweight='bold')\n",
    "\n",
    "axes.tick_params(axis='both', which='major', labelsize=axisticksize)\n",
    "\n",
    "plt.legend(loc='upper right', fontsize=legendsize)\n",
    "\n",
    "plt.savefig(figsave_dir +\n",
    "            'CMWP_lognorm.' + figsave_format,\n",
    "            format=figsave_format,\n",
    "            dpi=figsave_dpi)\n",
    "plt.show()"
   ]
  },
  {
   "cell_type": "code",
   "execution_count": null,
   "metadata": {},
   "outputs": [],
   "source": [
    "%%cmd\n",
    "type ..\\data\\4.sol"
   ]
  },
  {
   "cell_type": "code",
   "execution_count": null,
   "metadata": {},
   "outputs": [],
   "source": []
  },
  {
   "cell_type": "code",
   "execution_count": null,
   "metadata": {},
   "outputs": [],
   "source": []
  },
  {
   "cell_type": "code",
   "execution_count": null,
   "metadata": {},
   "outputs": [],
   "source": []
  }
 ],
 "metadata": {
  "kernelspec": {
   "display_name": "Python 3 (ipykernel)",
   "language": "python",
   "name": "python3"
  },
  "language_info": {
   "codemirror_mode": {
    "name": "ipython",
    "version": 3
   },
   "file_extension": ".py",
   "mimetype": "text/x-python",
   "name": "python",
   "nbconvert_exporter": "python",
   "pygments_lexer": "ipython3",
   "version": "3.9.10"
  }
 },
 "nbformat": 4,
 "nbformat_minor": 4
}
